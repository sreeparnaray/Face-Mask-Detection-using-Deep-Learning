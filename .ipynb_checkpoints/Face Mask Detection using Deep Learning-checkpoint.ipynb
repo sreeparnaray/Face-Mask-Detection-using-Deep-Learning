{
 "cells": [
  {
   "cell_type": "markdown",
   "metadata": {},
   "source": [
    "# Face Mask Detection using Deep Learning\n",
    "#### Sreeparna Ray"
   ]
  },
  {
   "cell_type": "markdown",
   "metadata": {},
   "source": [
    "The \"Face Mask Detection using Deep Learning\" project utilizes advanced computer vision techniques and deep learning algorithms to build a system capable of identifying whether a person is wearing a face mask or not. The system can process real-time video streams or static images, making it versatile for different applications."
   ]
  },
  {
   "cell_type": "code",
   "execution_count": 1,
   "metadata": {},
   "outputs": [],
   "source": [
    "import numpy as np\n",
    "import pandas as pd\n",
    "%matplotlib inline\n",
    "import matplotlib as mpl\n",
    "import matplotlib.pyplot as plt\n",
    "import os"
   ]
  },
  {
   "cell_type": "code",
   "execution_count": 2,
   "metadata": {},
   "outputs": [],
   "source": [
    "import tensorflow as tf\n",
    "from tensorflow import keras"
   ]
  },
  {
   "cell_type": "markdown",
   "metadata": {},
   "source": [
    "### Enter the Database location of Train, Test and Validation Data"
   ]
  },
  {
   "cell_type": "code",
   "execution_count": 3,
   "metadata": {},
   "outputs": [],
   "source": [
    "train_dir = r'D:\\USER\\SREE\\Jupyter Notebook Workspace\\ALL\\Project_myself\\Face Mask Detection using Deep Learning\\Dataset\\Train'\n",
    "validation_dir = r'D:\\USER\\SREE\\Jupyter Notebook Workspace\\ALL\\Project_myself\\Face Mask Detection using Deep Learning\\Dataset\\Validation'\n",
    "test_dir =r'D:\\USER\\SREE\\Jupyter Notebook Workspace\\ALL\\Project_myself\\Face Mask Detection using Deep Learning\\Dataset\\Test'"
   ]
  },
  {
   "cell_type": "code",
   "execution_count": 4,
   "metadata": {},
   "outputs": [],
   "source": [
    "from tensorflow.keras.preprocessing.image import ImageDataGenerator"
   ]
  },
  {
   "cell_type": "code",
   "execution_count": 5,
   "metadata": {},
   "outputs": [
    {
     "name": "stdout",
     "output_type": "stream",
     "text": [
      "Found 10000 images belonging to 2 classes.\n",
      "Found 800 images belonging to 2 classes.\n"
     ]
    }
   ],
   "source": [
    "train_datagen = ImageDataGenerator(rescale=1./255)\n",
    "test_datagen = ImageDataGenerator(rescale=1./255)\n",
    "\n",
    "train_generator = train_datagen.flow_from_directory(\n",
    "        train_dir,\n",
    "        target_size=(128, 128),\n",
    "        batch_size=20,\n",
    "        class_mode='binary')\n",
    "\n",
    "validation_generator = test_datagen.flow_from_directory(\n",
    "        validation_dir,\n",
    "        target_size=(128, 128),\n",
    "        batch_size=20,\n",
    "        class_mode='binary')"
   ]
  },
  {
   "cell_type": "code",
   "execution_count": 6,
   "metadata": {},
   "outputs": [],
   "source": [
    "from tensorflow.keras import layers\n",
    "from tensorflow.keras import models"
   ]
  },
  {
   "cell_type": "code",
   "execution_count": 7,
   "metadata": {},
   "outputs": [],
   "source": [
    "model = models.Sequential()\n",
    "\n",
    "model.add(layers.Conv2D(32, (3, 3), activation='relu',\n",
    "                        input_shape=(128, 128, 3)))\n",
    "model.add(layers.MaxPooling2D((2, 2)))\n",
    "\n",
    "model.add(layers.Conv2D(64, (3, 3), activation='relu'))\n",
    "model.add(layers.MaxPooling2D((2, 2)))\n",
    "\n",
    "model.add(layers.Conv2D(128, (3, 3), activation='relu'))\n",
    "model.add(layers.MaxPooling2D((2, 2)))\n",
    "\n",
    "model.add(layers.Conv2D(128, (3, 3), activation='relu'))\n",
    "model.add(layers.MaxPooling2D((2, 2)))\n",
    "\n",
    "model.add(layers.Flatten())\n",
    "\n",
    "model.add(layers.Dense(512, activation='relu'))\n",
    "\n",
    "model.add(layers.Dense(1, activation='sigmoid'))"
   ]
  },
  {
   "cell_type": "code",
   "execution_count": 8,
   "metadata": {},
   "outputs": [
    {
     "name": "stderr",
     "output_type": "stream",
     "text": [
      "C:\\Users\\SREEPARNA\\anaconda3\\lib\\site-packages\\keras\\optimizer_v2\\rmsprop.py:130: UserWarning: The `lr` argument is deprecated, use `learning_rate` instead.\n",
      "  super(RMSprop, self).__init__(name, **kwargs)\n"
     ]
    }
   ],
   "source": [
    "from tensorflow.keras import optimizers\n",
    "\n",
    "model.compile(loss='binary_crossentropy',\n",
    "              optimizer=optimizers.RMSprop(lr=1e-4),\n",
    "              metrics=['acc'])"
   ]
  },
  {
   "cell_type": "code",
   "execution_count": 9,
   "metadata": {
    "scrolled": true
   },
   "outputs": [
    {
     "name": "stderr",
     "output_type": "stream",
     "text": [
      "C:\\Users\\SREEPA~1\\AppData\\Local\\Temp/ipykernel_13204/2741540135.py:1: UserWarning: `Model.fit_generator` is deprecated and will be removed in a future version. Please use `Model.fit`, which supports generators.\n",
      "  history = model.fit_generator(\n"
     ]
    },
    {
     "name": "stdout",
     "output_type": "stream",
     "text": [
      "Epoch 1/20\n",
      "500/500 [==============================] - 327s 651ms/step - loss: 0.1734 - acc: 0.9337 - val_loss: 0.0451 - val_acc: 0.9812\n",
      "Epoch 2/20\n",
      "500/500 [==============================] - 206s 412ms/step - loss: 0.0493 - acc: 0.9820 - val_loss: 0.0210 - val_acc: 0.9937\n",
      "Epoch 3/20\n",
      "500/500 [==============================] - 235s 471ms/step - loss: 0.0336 - acc: 0.9880 - val_loss: 0.0161 - val_acc: 0.9950\n",
      "Epoch 4/20\n",
      "500/500 [==============================] - 219s 438ms/step - loss: 0.0279 - acc: 0.9900 - val_loss: 0.0177 - val_acc: 0.9912\n",
      "Epoch 5/20\n",
      "500/500 [==============================] - 219s 439ms/step - loss: 0.0225 - acc: 0.9926 - val_loss: 0.0133 - val_acc: 0.9950\n",
      "Epoch 6/20\n",
      "500/500 [==============================] - 235s 469ms/step - loss: 0.0201 - acc: 0.9935 - val_loss: 0.0114 - val_acc: 0.9950\n",
      "Epoch 7/20\n",
      "500/500 [==============================] - 238s 476ms/step - loss: 0.0166 - acc: 0.9932 - val_loss: 0.0147 - val_acc: 0.9950\n",
      "Epoch 8/20\n",
      "500/500 [==============================] - 229s 458ms/step - loss: 0.0160 - acc: 0.9950 - val_loss: 0.0098 - val_acc: 0.9962\n",
      "Epoch 9/20\n",
      "500/500 [==============================] - 218s 435ms/step - loss: 0.0122 - acc: 0.9956 - val_loss: 0.0118 - val_acc: 0.9950\n",
      "Epoch 10/20\n",
      "500/500 [==============================] - 275s 551ms/step - loss: 0.0127 - acc: 0.9955 - val_loss: 0.0064 - val_acc: 0.9975\n",
      "Epoch 11/20\n",
      "500/500 [==============================] - 223s 446ms/step - loss: 0.0107 - acc: 0.9963 - val_loss: 0.0192 - val_acc: 0.9937\n",
      "Epoch 12/20\n",
      "500/500 [==============================] - 233s 466ms/step - loss: 0.0071 - acc: 0.9976 - val_loss: 0.0113 - val_acc: 0.9975\n",
      "Epoch 13/20\n",
      "500/500 [==============================] - 213s 426ms/step - loss: 0.0064 - acc: 0.9975 - val_loss: 0.0143 - val_acc: 0.9962\n",
      "Epoch 14/20\n",
      "500/500 [==============================] - 211s 422ms/step - loss: 0.0053 - acc: 0.9975 - val_loss: 0.0104 - val_acc: 0.9962\n",
      "Epoch 15/20\n",
      "500/500 [==============================] - 214s 427ms/step - loss: 0.0064 - acc: 0.9981 - val_loss: 0.0230 - val_acc: 0.9975\n",
      "Epoch 16/20\n",
      "500/500 [==============================] - 209s 419ms/step - loss: 0.0044 - acc: 0.9984 - val_loss: 0.0098 - val_acc: 0.9987\n",
      "Epoch 17/20\n",
      "500/500 [==============================] - 212s 424ms/step - loss: 0.0041 - acc: 0.9986 - val_loss: 0.0084 - val_acc: 0.9987\n",
      "Epoch 18/20\n",
      "500/500 [==============================] - 215s 429ms/step - loss: 0.0041 - acc: 0.9984 - val_loss: 0.0381 - val_acc: 0.9925\n",
      "Epoch 19/20\n",
      "500/500 [==============================] - 224s 447ms/step - loss: 0.0036 - acc: 0.9991 - val_loss: 0.0359 - val_acc: 0.9950\n",
      "Epoch 20/20\n",
      "500/500 [==============================] - 237s 475ms/step - loss: 0.0041 - acc: 0.9986 - val_loss: 0.0060 - val_acc: 0.9975\n"
     ]
    }
   ],
   "source": [
    "history = model.fit_generator(\n",
    "      train_generator,\n",
    "      steps_per_epoch=500,\n",
    "      epochs=20,\n",
    "      validation_data=validation_generator,\n",
    "      validation_steps=40)"
   ]
  },
  {
   "cell_type": "code",
   "execution_count": 10,
   "metadata": {},
   "outputs": [],
   "source": [
    "model.save(\"model_cnn_project_P1.h5\")"
   ]
  },
  {
   "cell_type": "code",
   "execution_count": 11,
   "metadata": {},
   "outputs": [],
   "source": [
    "from tensorflow.keras import backend as K \n",
    "\n",
    "K.clear_session()\n",
    "del model"
   ]
  },
  {
   "cell_type": "code",
   "execution_count": 12,
   "metadata": {},
   "outputs": [
    {
     "name": "stdout",
     "output_type": "stream",
     "text": [
      "Found 10000 images belonging to 2 classes.\n",
      "Found 800 images belonging to 2 classes.\n"
     ]
    }
   ],
   "source": [
    "train_datagen = ImageDataGenerator(\n",
    "    rescale=1./255,\n",
    "    rotation_range=40,\n",
    "    width_shift_range=0.2,\n",
    "    height_shift_range=0.2,\n",
    "    shear_range=0.2,\n",
    "    zoom_range=0.2,\n",
    "    horizontal_flip=True,)\n",
    "\n",
    "test_datagen = ImageDataGenerator(rescale=1./255)\n",
    "\n",
    "train_generator = train_datagen.flow_from_directory(\n",
    "        train_dir,\n",
    "        target_size=(128, 128),\n",
    "        batch_size=32,\n",
    "        class_mode='binary')\n",
    "\n",
    "validation_generator = test_datagen.flow_from_directory(\n",
    "        validation_dir,\n",
    "        target_size=(128, 128),\n",
    "        batch_size=32,\n",
    "        class_mode='binary')"
   ]
  },
  {
   "cell_type": "code",
   "execution_count": 13,
   "metadata": {},
   "outputs": [],
   "source": [
    "model = models.Sequential()\n",
    "model.add(layers.Conv2D(32, (3, 3), activation='relu',\n",
    "                        input_shape=(128, 128, 3)))\n",
    "model.add(layers.MaxPooling2D((2, 2)))\n",
    "model.add(layers.Conv2D(64, (3, 3), activation='relu'))\n",
    "model.add(layers.MaxPooling2D((2, 2)))\n",
    "model.add(layers.Conv2D(128, (3, 3), activation='relu'))\n",
    "model.add(layers.MaxPooling2D((2, 2)))\n",
    "model.add(layers.Conv2D(128, (3, 3), activation='relu'))\n",
    "model.add(layers.MaxPooling2D((2, 2)))\n",
    "model.add(layers.Flatten())\n",
    "model.add(layers.Dropout(0.5))\n",
    "model.add(layers.Dense(512, activation='relu'))\n",
    "model.add(layers.Dense(1, activation='sigmoid'))\n",
    "\n",
    "model.compile(loss='binary_crossentropy',\n",
    "              optimizer=optimizers.RMSprop(lr=1e-4),\n",
    "              metrics=['acc'])"
   ]
  },
  {
   "cell_type": "code",
   "execution_count": 14,
   "metadata": {},
   "outputs": [
    {
     "name": "stderr",
     "output_type": "stream",
     "text": [
      "C:\\Users\\SREEPA~1\\AppData\\Local\\Temp/ipykernel_13204/3626876644.py:1: UserWarning: `Model.fit_generator` is deprecated and will be removed in a future version. Please use `Model.fit`, which supports generators.\n",
      "  history = model.fit_generator(\n"
     ]
    },
    {
     "name": "stdout",
     "output_type": "stream",
     "text": [
      "Epoch 1/10\n",
      "300/300 [==============================] - 280s 921ms/step - loss: 0.2979 - acc: 0.8782 - val_loss: 0.2464 - val_acc: 0.8963\n",
      "Epoch 2/10\n",
      "300/300 [==============================] - 217s 723ms/step - loss: 0.2117 - acc: 0.9164 - val_loss: 0.1034 - val_acc: 0.9675\n",
      "Epoch 3/10\n",
      "300/300 [==============================] - 228s 759ms/step - loss: 0.1820 - acc: 0.9331 - val_loss: 0.0918 - val_acc: 0.9737\n",
      "Epoch 4/10\n",
      "300/300 [==============================] - 236s 785ms/step - loss: 0.1652 - acc: 0.9395 - val_loss: 0.0872 - val_acc: 0.9737\n",
      "Epoch 5/10\n",
      "300/300 [==============================] - 235s 781ms/step - loss: 0.1554 - acc: 0.9425 - val_loss: 0.0693 - val_acc: 0.9812\n",
      "Epoch 6/10\n",
      "300/300 [==============================] - 221s 737ms/step - loss: 0.1479 - acc: 0.9429 - val_loss: 0.3181 - val_acc: 0.8662\n",
      "Epoch 7/10\n",
      "300/300 [==============================] - 219s 728ms/step - loss: 0.1416 - acc: 0.9477 - val_loss: 0.0704 - val_acc: 0.9825\n",
      "Epoch 8/10\n",
      "300/300 [==============================] - 213s 710ms/step - loss: 0.1377 - acc: 0.9484 - val_loss: 0.0585 - val_acc: 0.9837\n",
      "Epoch 9/10\n",
      "300/300 [==============================] - 212s 707ms/step - loss: 0.1280 - acc: 0.9535 - val_loss: 0.0525 - val_acc: 0.9825\n",
      "Epoch 10/10\n",
      "300/300 [==============================] - 235s 781ms/step - loss: 0.1230 - acc: 0.9564 - val_loss: 0.0612 - val_acc: 0.9837\n"
     ]
    }
   ],
   "source": [
    "history = model.fit_generator(\n",
    "      train_generator,\n",
    "      steps_per_epoch=300,\n",
    "      epochs=10,\n",
    "      validation_data=validation_generator,\n",
    "      validation_steps=25)"
   ]
  },
  {
   "cell_type": "code",
   "execution_count": null,
   "metadata": {},
   "outputs": [],
   "source": []
  },
  {
   "cell_type": "code",
   "execution_count": 15,
   "metadata": {},
   "outputs": [
    {
     "name": "stdout",
     "output_type": "stream",
     "text": [
      "Downloading data from https://storage.googleapis.com/tensorflow/keras-applications/vgg19/vgg19_weights_tf_dim_ordering_tf_kernels_notop.h5\n",
      "80142336/80134624 [==============================] - 10s 0us/step\n",
      "80150528/80134624 [==============================] - 10s 0us/step\n"
     ]
    }
   ],
   "source": [
    "from tensorflow.keras.applications import VGG19\n",
    "\n",
    "conv_base = VGG19(weights='imagenet',\n",
    "                  include_top=False,\n",
    "                  input_shape=(128, 128, 3))"
   ]
  },
  {
   "cell_type": "code",
   "execution_count": 16,
   "metadata": {},
   "outputs": [],
   "source": [
    "from tensorflow.keras import models\n",
    "from tensorflow.keras import layers\n",
    "\n",
    "model = models.Sequential()\n",
    "model.add(conv_base)\n",
    "model.add(layers.Flatten())\n",
    "model.add(layers.Dense(256, activation='relu'))\n",
    "model.add(layers.Dense(1, activation='sigmoid'))"
   ]
  },
  {
   "cell_type": "code",
   "execution_count": 17,
   "metadata": {},
   "outputs": [],
   "source": [
    "from tensorflow.keras import optimizers\n",
    "\n",
    "model.compile(loss='binary_crossentropy',\n",
    "              optimizer=optimizers.RMSprop(lr=2e-5),\n",
    "              metrics=['acc'])"
   ]
  },
  {
   "cell_type": "code",
   "execution_count": 18,
   "metadata": {},
   "outputs": [],
   "source": [
    "checkpoint_cb = keras.callbacks.ModelCheckpoint(\"CNN_Final_Project_Model-{epoch:02d}.h5\")"
   ]
  },
  {
   "cell_type": "code",
   "execution_count": null,
   "metadata": {},
   "outputs": [
    {
     "name": "stderr",
     "output_type": "stream",
     "text": [
      "C:\\Users\\SREEPA~1\\AppData\\Local\\Temp/ipykernel_13204/42408592.py:1: UserWarning: `Model.fit_generator` is deprecated and will be removed in a future version. Please use `Model.fit`, which supports generators.\n",
      "  history = model.fit_generator(\n"
     ]
    },
    {
     "name": "stdout",
     "output_type": "stream",
     "text": [
      "Epoch 1/10\n",
      "123/300 [===========>..................] - ETA: 41:54 - loss: 0.1506 - acc: 0.9332"
     ]
    }
   ],
   "source": [
    "history = model.fit_generator(\n",
    "      train_generator,\n",
    "      steps_per_epoch=300,\n",
    "      epochs=10,\n",
    "      validation_data=validation_generator,\n",
    "      validation_steps=25,\n",
    "      callbacks=[checkpoint_cb])"
   ]
  },
  {
   "cell_type": "code",
   "execution_count": null,
   "metadata": {},
   "outputs": [],
   "source": [
    "test_generator = test_datagen.flow_from_directory(\n",
    "        test_dir,\n",
    "        target_size=(128, 128),\n",
    "        batch_size=32,\n",
    "        class_mode='binary')"
   ]
  },
  {
   "cell_type": "code",
   "execution_count": null,
   "metadata": {},
   "outputs": [],
   "source": [
    "model.evaluate_generator(test_generator, steps=31)"
   ]
  },
  {
   "cell_type": "code",
   "execution_count": null,
   "metadata": {},
   "outputs": [],
   "source": []
  },
  {
   "cell_type": "code",
   "execution_count": null,
   "metadata": {},
   "outputs": [],
   "source": []
  },
  {
   "cell_type": "code",
   "execution_count": null,
   "metadata": {},
   "outputs": [],
   "source": []
  },
  {
   "cell_type": "code",
   "execution_count": null,
   "metadata": {},
   "outputs": [],
   "source": []
  },
  {
   "cell_type": "code",
   "execution_count": null,
   "metadata": {},
   "outputs": [],
   "source": []
  },
  {
   "cell_type": "code",
   "execution_count": null,
   "metadata": {},
   "outputs": [],
   "source": []
  },
  {
   "cell_type": "code",
   "execution_count": null,
   "metadata": {},
   "outputs": [],
   "source": []
  },
  {
   "cell_type": "code",
   "execution_count": null,
   "metadata": {},
   "outputs": [],
   "source": []
  },
  {
   "cell_type": "code",
   "execution_count": null,
   "metadata": {},
   "outputs": [],
   "source": []
  },
  {
   "cell_type": "code",
   "execution_count": null,
   "metadata": {},
   "outputs": [],
   "source": []
  }
 ],
 "metadata": {
  "kernelspec": {
   "display_name": "Python 3 (ipykernel)",
   "language": "python",
   "name": "python3"
  },
  "language_info": {
   "codemirror_mode": {
    "name": "ipython",
    "version": 3
   },
   "file_extension": ".py",
   "mimetype": "text/x-python",
   "name": "python",
   "nbconvert_exporter": "python",
   "pygments_lexer": "ipython3",
   "version": "3.9.7"
  }
 },
 "nbformat": 4,
 "nbformat_minor": 4
}
